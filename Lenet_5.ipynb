{
  "nbformat": 4,
  "nbformat_minor": 0,
  "metadata": {
    "colab": {
      "name": "Lenet-5.ipynb",
      "provenance": [],
      "authorship_tag": "ABX9TyOCUEX75+TNql34vgjV6ewP",
      "include_colab_link": true
    },
    "kernelspec": {
      "display_name": "Python 3",
      "name": "python3"
    },
    "language_info": {
      "name": "python"
    }
  },
  "cells": [
    {
      "cell_type": "markdown",
      "metadata": {
        "id": "view-in-github",
        "colab_type": "text"
      },
      "source": [
        "<a href=\"https://colab.research.google.com/github/hauduong05/CNN-models/blob/main/Lenet_5.ipynb\" target=\"_parent\"><img src=\"https://colab.research.google.com/assets/colab-badge.svg\" alt=\"Open In Colab\"/></a>"
      ]
    },
    {
      "cell_type": "code",
      "metadata": {
        "id": "D4xhzTdiqVjx"
      },
      "source": [
        "import torch\n",
        "import torch.nn as nn\n",
        "import torchvision\n",
        "from torch.utils.data import DataLoader\n",
        "from torchvision import transforms\n",
        "import matplotlib.pyplot as plt\n",
        "import torch.nn.functional as F\n",
        "import numpy as np"
      ],
      "execution_count": null,
      "outputs": []
    },
    {
      "cell_type": "code",
      "metadata": {
        "id": "8UEkhq3fqvj_"
      },
      "source": [
        "# read data\n",
        "\n",
        "path = '/content/drive/MyDrive/data'\n",
        "\n",
        "train = torchvision.datasets.FashionMNIST(root=path, train=True, transform=transforms.ToTensor(), download=True)\n",
        "test = torchvision.datasets.FashionMNIST(root=path, train=False, transform=transforms.ToTensor())"
      ],
      "execution_count": null,
      "outputs": []
    },
    {
      "cell_type": "code",
      "metadata": {
        "id": "bVCm4XuCq9uH"
      },
      "source": [
        "# visualize data\n",
        "\n",
        "img, label = train[0]\n",
        "img = img.view(28, 28)\n",
        "plt.imshow(img)"
      ],
      "execution_count": null,
      "outputs": []
    },
    {
      "cell_type": "code",
      "metadata": {
        "id": "QCTz5pojsmb5"
      },
      "source": [
        "# initial hyper parameters\n",
        "\n",
        "batch_size = 64\n",
        "learning_rate = 1e-2\n",
        "num_epochs = 10"
      ],
      "execution_count": null,
      "outputs": []
    },
    {
      "cell_type": "code",
      "metadata": {
        "id": "VtFSHzp-rvjR"
      },
      "source": [
        "# prepare data\n",
        "\n",
        "labels = train.classes\n",
        "\n",
        "train, valid = torch.utils.data.random_split(train, [50000, 10000])\n",
        "train_loader = DataLoader(train, batch_size=batch_size, shuffle=True)\n",
        "valid_loader = DataLoader(valid, batch_size=batch_size, shuffle=True)\n",
        "test_loader = DataLoader(test, batch_size=batch_size, shuffle=True)"
      ],
      "execution_count": null,
      "outputs": []
    },
    {
      "cell_type": "code",
      "metadata": {
        "id": "toNRnbghs7e2"
      },
      "source": [
        "# build model\n",
        "\n",
        "class Lenet(nn.Module):\n",
        "  def __init__(self):\n",
        "    super(Lenet, self).__init__()\n",
        "    self.conv1 = nn.Conv2d(1, 6, 5, padding=2)\n",
        "    self.conv2 = nn.Conv2d(6, 16, 5)\n",
        "    self.pool = nn.AvgPool2d(2, 2)\n",
        "    self.fc1 = nn.Linear(16 * 5 * 5, 120)\n",
        "    self.fc2 = nn.Linear(120, 84)\n",
        "    self.fc3 = nn.Linear(84, 10)\n",
        "  \n",
        "  def forward(self, x):\n",
        "    x = self.pool(F.sigmoid(self.conv1(x)))\n",
        "    x = self.pool(F.sigmoid(self.conv2(x)))\n",
        "    x = x.view(-1, 16 * 5 * 5)\n",
        "    x = F.sigmoid(self.fc1(x))\n",
        "    x = F.sigmoid(self.fc2(x))\n",
        "    x = self.fc3(x)\n",
        "    return x\n",
        "\n",
        "model = Lenet()\n",
        "loss_fn = nn.CrossEntropyLoss()\n",
        "optimizer = torch.optim.Adam(model.parameters(), lr=learning_rate)"
      ],
      "execution_count": null,
      "outputs": []
    },
    {
      "cell_type": "code",
      "metadata": {
        "colab": {
          "background_save": true,
          "base_uri": "https://localhost:8080/"
        },
        "id": "fJWrcLGvuhNA",
        "outputId": "229af995-dd0e-4f53-c512-68e9ea7666c6"
      },
      "source": [
        "# train and evaluate\n",
        "\n",
        "train_loss_hist = []\n",
        "train_acc_hist = []\n",
        "valid_loss_hist = []\n",
        "valid_acc_hist = []\n",
        "\n",
        "for epoch in range(num_epochs):\n",
        "  train_loss, train_corr, val_loss, val_corr = 0, 0, 0, 0\n",
        "  for data, label in train_loader:\n",
        "    data = data.view(-1, 1, 28, 28)\n",
        "    out = model(data)\n",
        "    l = loss_fn(out, label)\n",
        "    l.backward()\n",
        "    optimizer.step()\n",
        "    optimizer.zero_grad()\n",
        "    _, pred = torch.max(out, 1)\n",
        "    train_loss += l\n",
        "    train_corr += torch.sum(pred == label)\n",
        "  \n",
        "  with torch.no_grad():\n",
        "    for data, label in valid_loader:\n",
        "      data = data.view(-1, 1, 28, 28)\n",
        "      out = model(data)\n",
        "      _, pred = torch.max(out, 1)\n",
        "      l = loss_fn(out, label)\n",
        "      val_loss += l\n",
        "      val_corr += torch.sum(pred == label)\n",
        "  \n",
        "  train_loss = train_loss / len(train_loader)\n",
        "  train_acc = train_corr / len(train)\n",
        "  val_loss = val_loss / len(valid_loader)\n",
        "  val_acc = val_corr / len(valid)\n",
        "\n",
        "  train_loss_hist.append(train_loss)\n",
        "  train_acc_hist.append(train_acc)\n",
        "  valid_loss_hist.append(val_loss)\n",
        "  valid_acc_hist.append(val_acc)\n",
        "\n",
        "  print(f'epoch {epoch+1} : loss = {train_loss:.3f} - acc = {train_acc:.3f} - val_loss = {val_loss:.3f} - val_acc = {val_acc:.3f}')\n",
        "\n",
        "torch.save(model, 'model.pth') "
      ],
      "execution_count": null,
      "outputs": [
        {
          "name": "stderr",
          "output_type": "stream",
          "text": [
            "/usr/local/lib/python3.7/dist-packages/torch/nn/functional.py:1805: UserWarning: nn.functional.sigmoid is deprecated. Use torch.sigmoid instead.\n",
            "  warnings.warn(\"nn.functional.sigmoid is deprecated. Use torch.sigmoid instead.\")\n"
          ]
        },
        {
          "name": "stdout",
          "output_type": "stream",
          "text": [
            "epoch 1 : loss = 2.305 - acc = 0.100 - val_loss = 2.303 - val_acc = 0.095\n",
            "epoch 2 : loss = 2.304 - acc = 0.100 - val_loss = 2.304 - val_acc = 0.099\n",
            "epoch 3 : loss = 2.304 - acc = 0.101 - val_loss = 2.303 - val_acc = 0.101\n",
            "epoch 4 : loss = 2.304 - acc = 0.096 - val_loss = 2.303 - val_acc = 0.101\n",
            "epoch 5 : loss = 2.304 - acc = 0.098 - val_loss = 2.304 - val_acc = 0.098\n",
            "epoch 6 : loss = 2.304 - acc = 0.098 - val_loss = 2.303 - val_acc = 0.103\n",
            "epoch 7 : loss = 2.304 - acc = 0.098 - val_loss = 2.303 - val_acc = 0.099\n",
            "epoch 8 : loss = 2.304 - acc = 0.099 - val_loss = 2.304 - val_acc = 0.101\n",
            "epoch 9 : loss = 2.304 - acc = 0.098 - val_loss = 2.304 - val_acc = 0.098\n",
            "epoch 10 : loss = 2.304 - acc = 0.097 - val_loss = 2.303 - val_acc = 0.099\n"
          ]
        }
      ]
    },
    {
      "cell_type": "code",
      "metadata": {
        "colab": {
          "base_uri": "https://localhost:8080/",
          "height": 268
        },
        "id": "R6Tp_Xo_28EA",
        "outputId": "28926632-240f-4f88-9fb1-fe17e4d448e2"
      },
      "source": [
        "# plot train and validation loss and acuuracy\n",
        "\n",
        "fig, ax = plt.subplots(2)\n",
        "ax[0].plot(np.arange(num_epochs), train_loss_hist, 'g-')\n",
        "ax[0].plot(np.arange(num_epochs), valid_loss_hist, 'b-')\n",
        "ax[0].set_title('Loss')\n",
        "\n",
        "ax[1].plot(np.arange(num_epochs), train_acc_hist, 'g-')\n",
        "ax[1].plot(np.arange(num_epochs), valid_acc_hist, 'b-')\n",
        "ax[1].set_title(\"Accuracy\")\n",
        "\n",
        "plt.show()"
      ],
      "execution_count": null,
      "outputs": [
        {
          "data": {
            "image/png": "[encoded data removed]",
            "text/plain": [
              "<Figure size 432x288 with 2 Axes>"
            ]
          },
          "metadata": {
            "tags": []
          },
          "output_type": "display_data"
        }
      ]
    },
    {
      "cell_type": "code",
      "metadata": {
        "id": "WHZ2HcYnPIdo"
      },
      "source": [
        "# predict data\n",
        "\n",
        "model = torch.load('model.pth')\n",
        "\n",
        "data, label = test[0]\n",
        "data = data.view(1, 1, 28, 28)\n",
        "out = model(data)\n",
        "_, pred = torch.max(out, 1)\n",
        "\n",
        "print(labels[pred[0]])\n",
        "img = data.view(28, 28)"
      ],
      "execution_count": null,
      "outputs": []
    }
  ]
}